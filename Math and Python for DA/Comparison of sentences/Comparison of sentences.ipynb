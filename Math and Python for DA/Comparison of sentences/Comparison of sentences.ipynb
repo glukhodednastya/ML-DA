{
 "cells": [
  {
   "cell_type": "code",
   "execution_count": 102,
   "id": "45cf4ee2",
   "metadata": {},
   "outputs": [],
   "source": [
    "import re\n",
    "from numpy import zeros, dot\n",
    "from numpy.linalg import norm"
   ]
  },
  {
   "cell_type": "code",
   "execution_count": 103,
   "id": "63652a6a",
   "metadata": {},
   "outputs": [],
   "source": [
    "# Processing text from a file\n",
    "\n",
    "with open('sentences.txt', 'r') as file_obj:\n",
    "    lines = sum(1 for _ in file_obj)\n",
    "    file_obj.seek(0)\n",
    "    \n",
    "    words = {}\n",
    "    lines_count, words_count = 0, 0\n",
    "    for line in file_obj:\n",
    "        p = re.compile(r\"[^a-z]+\")\n",
    "        tokens = p.split(line.lower())\n",
    "        \n",
    "        for token in tokens:\n",
    "            if token not in words:\n",
    "                words[token] = {\n",
    "                    \"index\": words_count,\n",
    "                    \"occurrences\": [0] * lines\n",
    "                }\n",
    "                words_count += 1\n",
    "            elif words[token][\"occurrences\"][lines_count] != 0:\n",
    "                        continue\n",
    "\n",
    "            words[token][\"occurrences\"][lines_count] = tokens.count(token)    \n",
    "        lines_count += 1"
   ]
  },
  {
   "cell_type": "code",
   "execution_count": 104,
   "id": "8657473e",
   "metadata": {},
   "outputs": [],
   "source": [
    "# Array of words and repetitions\n",
    "\n",
    "arr = zeros((lines, len(words)))\n",
    "for word in words:\n",
    "    i, j = 0, words[word][\"index\"]\n",
    "    for occ in words[word][\"occurrences\"]:\n",
    "        arr[i, j] = occ\n",
    "        i += 1"
   ]
  },
  {
   "cell_type": "code",
   "execution_count": 105,
   "id": "9270d078",
   "metadata": {},
   "outputs": [],
   "source": [
    "# Find the cosine distance from the sentence in the very first line to \n",
    "#all the others using the scipy.spatial.distance.cosine function\n",
    "\n",
    "def cosine_distance(u, v):\n",
    "    return 1.0 - (dot(u, v) / (norm(u) * norm(v)))"
   ]
  },
  {
   "cell_type": "code",
   "execution_count": 107,
   "id": "abbe3de4",
   "metadata": {},
   "outputs": [
    {
     "name": "stdout",
     "output_type": "stream",
     "text": [
      "The 1 closest sentence is a sentence 6 with a cosine distance of 0.70.\n",
      "The 2 closest sentence is a sentence 4 with a cosine distance of 0.74.\n"
     ]
    }
   ],
   "source": [
    "dist = [] \n",
    "u = arr[0,] \n",
    "for i in range(1, lines):\n",
    "    v = arr[i,]\n",
    "    dist.append({\"index\": i, \"distance\": cosine_distance(u, v)})    \n",
    "\n",
    "dist.sort(key=lambda x: x[\"distance\"])\n",
    "print(\"The 1 closest sentence is a sentence %d with a cosine distance of %.2f.\\n\"\\\n",
    "\"The 2 closest sentence is a sentence %d with a cosine distance of %.2f.\" % (\n",
    "    dist[0][\"index\"],\n",
    "    dist[0][\"distance\"],\n",
    "    dist[1][\"index\"],\n",
    "    dist[1][\"distance\"]\n",
    "))"
   ]
  }
 ],
 "metadata": {
  "kernelspec": {
   "display_name": "Python 3 (ipykernel)",
   "language": "python",
   "name": "python3"
  },
  "language_info": {
   "codemirror_mode": {
    "name": "ipython",
    "version": 3
   },
   "file_extension": ".py",
   "mimetype": "text/x-python",
   "name": "python",
   "nbconvert_exporter": "python",
   "pygments_lexer": "ipython3",
   "version": "3.9.12"
  }
 },
 "nbformat": 4,
 "nbformat_minor": 5
}
